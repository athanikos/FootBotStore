{
 "cells": [
  {
   "cell_type": "code",
   "execution_count": 5,
   "metadata": {},
   "outputs": [
    {
     "name": "stderr",
     "output_type": "stream",
     "text": [
      "/home/darth/anaconda3/lib/python3.6/site-packages/sklearn/linear_model/logistic.py:433: FutureWarning: Default solver will be changed to 'lbfgs' in 0.22. Specify a solver to silence this warning.\n",
      "  FutureWarning)\n"
     ]
    },
    {
     "data": {
      "text/plain": [
       "array([[343,  57],\n",
       "       [307,  80]])"
      ]
     },
     "execution_count": 5,
     "metadata": {},
     "output_type": "execute_result"
    }
   ],
   "source": [
    "\n",
    "import pandas as pd \n",
    "import numpy as np\n",
    "import matplotlib.pyplot as plt\n",
    "from pymongo import MongoClient\n",
    "client = MongoClient(\"localhost\", 27017, maxPoolSize=50)\n",
    "db = client.book\n",
    "collection = db['FullTimeMatches']\n",
    "cursor = collection.find()\n",
    "df =  pd.DataFrame(list(cursor))\n",
    "pd.set_option('display.max_rows', 5000)\n",
    "pd.options.display.max_columns = None\n",
    "df_Eredevisie =  df[df.league_name == 'Eredivisie'  ]\n",
    "\n",
    "df_minimal_Eredevisie = df_Eredevisie[[ 'startingatwithtime', 'hometeamname','awayteamname'\n",
    "                                        ,'HomeTeamWhileHomeAverageAttackUpTo75'\n",
    "                                        ,'HomeTeamWhileHomeAverageDefenceUpTo75'\n",
    "                                        ,'HomeTeamWhileHomeAverageAttackLast15'\n",
    "                                        ,'HomeTeamWhileHomeAverageDefenceLast15'\n",
    "                                        ,'AwayTeamWhileAwayAverageAttackUpTo75'\n",
    "                                        ,'AwayTeamWhileAwayAverageDefenceUpTo75'\n",
    "                                        ,'AwayTeamWhileAwayAverageAttackLast15'\n",
    "                                        ,'AwayTeamWhileAwayAverageDefenceLast15'\n",
    "                                        ,'differenceAt75'\n",
    "                                        ,'reddifferenceAt75'\n",
    "                                        ,'BucketedAwayTeamWhileAwayAverageAttack'\n",
    "                                        ,'BucketedAwayTeamWhileAwayAverageDefence'\n",
    "                                        ,'BucketedHomeTeamWhileHomeAverageAttack'\n",
    "                                        ,'BucketedHomeTeamWhileHomeAverageDefence'\n",
    "                      \n",
    "                                        ,'goalScoredLast15'   \n",
    "                                      ]].copy()\n",
    "\n",
    "\n",
    "\n",
    "\n",
    "\n",
    "feature_cols = [                   \n",
    "                                    \n",
    "                                          'BucketedHomeTeamWhileHomeAverageAttack'\n",
    "                                          ,'differenceAt75'\n",
    "                                          ,'reddifferenceAt75'\n",
    "                                         ]\n",
    "\n",
    "y =df_minimal_Eredevisie['goalScoredLast15']\n",
    "X=df_minimal_Eredevisie[feature_cols]\n",
    "\n",
    "\n",
    "from sklearn.model_selection  import train_test_split \n",
    "\n",
    "X_train, X_test, y_train , y_test = train_test_split(X,y,test_size=0.3, random_state=1)\n",
    "from sklearn.linear_model import LogisticRegression \n",
    "logmodel = LogisticRegression() \n",
    "logmodel.fit(X_train,y_train)\n",
    "\n",
    "predictions = logmodel.predict(X_test)\n",
    "from sklearn.metrics import classification_report \n",
    "classification_report(y_test,predictions)\n",
    "\n",
    "from sklearn.metrics import confusion_matrix \n",
    "confusion_matrix(y_test,predictions)\n",
    "\n",
    "\n"
   ]
  },
  {
   "cell_type": "code",
   "execution_count": null,
   "metadata": {},
   "outputs": [],
   "source": []
  }
 ],
 "metadata": {
  "kernelspec": {
   "display_name": "Python 3",
   "language": "python",
   "name": "python3"
  },
  "language_info": {
   "codemirror_mode": {
    "name": "ipython",
    "version": 3
   },
   "file_extension": ".py",
   "mimetype": "text/x-python",
   "name": "python",
   "nbconvert_exporter": "python",
   "pygments_lexer": "ipython3",
   "version": "3.6.5"
  }
 },
 "nbformat": 4,
 "nbformat_minor": 2
}
