{
 "cells": [
  {
   "cell_type": "code",
   "execution_count": 10,
   "metadata": {},
   "outputs": [
    {
     "name": "stderr",
     "output_type": "stream",
     "text": [
      "/home/darth/anaconda3/lib/python3.6/site-packages/sklearn/linear_model/logistic.py:433: FutureWarning: Default solver will be changed to 'lbfgs' in 0.22. Specify a solver to silence this warning.\n",
      "  FutureWarning)\n"
     ]
    },
    {
     "data": {
      "text/plain": [
       "LogisticRegression(C=1.0, class_weight=None, dual=False, fit_intercept=True,\n",
       "          intercept_scaling=1, max_iter=100, multi_class='warn',\n",
       "          n_jobs=None, penalty='l2', random_state=None, solver='warn',\n",
       "          tol=0.0001, verbose=0, warm_start=False)"
      ]
     },
     "execution_count": 10,
     "metadata": {},
     "output_type": "execute_result"
    }
   ],
   "source": [
    "import pandas as pd \n",
    "import numpy as np\n",
    "import matplotlib.pyplot as plt\n",
    "from pymongo import MongoClient\n",
    "client = MongoClient(\"localhost\", 27017, maxPoolSize=50)\n",
    "db = client.book\n",
    "collection = db['FullTimeMatches']\n",
    "cursor = collection.find()\n",
    "df =  pd.DataFrame(list(cursor))\n",
    "pd.set_option('display.max_rows', 5000)\n",
    "pd.options.display.max_columns = None\n",
    "df_Eredevisie =  df[df.league_name == 'Eredivisie'  ]\n",
    "\n",
    "df_minimal_Eredevisie =  df_Eredevisie[[ \n",
    "                                        'homeredUpTo75'\n",
    "                                        ,'awayredUpTo75'\n",
    "                                        ,'homeyellowUpTo75'\n",
    "                                        ,'awayyellowUpTo75'\n",
    "                                        ,'homeGoalsUpTo75'\n",
    "                                        ,'awayGoalsUpTo75' \n",
    "                                        ,'resultAt60'\n",
    "                                        ,'resultAt75'\n",
    "                                        ,'goalScoredLast15'\n",
    "                                           ,'HomeTeamWhileHomeAverageAttack'\n",
    "                                        ,'AwayTeamWhileAwayAverageAttack'\n",
    "                                        ,'AwayTeamWhileAwayAverageDefence'\n",
    "                                        ,'HomeTeamWhileHomeAverageDefence'\n",
    "                                      ]].copy()\n",
    "\n",
    "df_minimal_Eredevisie['goalScoredLast15'] = df_minimal_Eredevisie['goalScoredLast15'] == 1\n",
    "\n",
    " \n",
    "dummyresult = pd.get_dummies(df_minimal_Eredevisie['resultAt60'],prefix='resultAt60')\n",
    "\n",
    "\n",
    "df_minimal_Eredevisie = pd.concat([df_minimal_Eredevisie,dummyresult], axis=1)\n",
    "\n",
    "\n",
    "dummyresult = pd.get_dummies(df_minimal_Eredevisie['resultAt75'],prefix='resultAt75')\n",
    "dummyresult.head()\n",
    "df_minimal_Eredevisie = pd.concat([df_minimal_Eredevisie,dummyresult], axis=1)\n",
    "\n",
    "df_minimal_Eredevisie['homeredUpTo75'] = df_minimal_Eredevisie['homeredUpTo75'].astype(np.int64)\n",
    "df_minimal_Eredevisie['awayredUpTo75'] =df_minimal_Eredevisie['awayredUpTo75'].astype(np.int64)\n",
    "df_minimal_Eredevisie['homeyellowUpTo75'] = df_minimal_Eredevisie['homeyellowUpTo75'].astype(np.int64)\n",
    "df_minimal_Eredevisie['awayyellowUpTo75'] = df_minimal_Eredevisie['awayyellowUpTo75'].astype(np.int64)\n",
    "df_minimal_Eredevisie['homeGoalsUpTo75'] = df_minimal_Eredevisie['homeGoalsUpTo75'].astype(np.int64)\n",
    "df_minimal_Eredevisie['awayGoalsUpTo75'] = df_minimal_Eredevisie['awayGoalsUpTo75'].astype(np.int64)\n",
    "\n",
    "\n",
    "\n",
    "feature_cols = [                             'homeredUpTo75'\n",
    "                                        ,'awayredUpTo75'\n",
    "                                        ,'homeyellowUpTo75'\n",
    "                                        ,'awayyellowUpTo75'\n",
    "                                        ,'homeGoalsUpTo75'\n",
    "                                        ,'awayGoalsUpTo75' \n",
    "                                        ,'resultAt60_DRAW'\n",
    "                                        ,'resultAt60_LOOSE'\n",
    "                                        ,'resultAt60_WIN'\n",
    "                                        ,'resultAt75_DRAW'\n",
    "                                        ,'resultAt75_LOOSE'\n",
    "                                        ,'resultAt75_WIN'\n",
    "                                        ,'HomeTeamWhileHomeAverageAttack'\n",
    "                                        ,'AwayTeamWhileAwayAverageAttack'\n",
    "                                        ,'AwayTeamWhileAwayAverageDefence'\n",
    "                                        ,'HomeTeamWhileHomeAverageDefence'\n",
    "                \n",
    "                                \n",
    "                    \n",
    "               ]\n",
    "\n",
    "\n",
    "y =df_minimal_Eredevisie['goalScoredLast15']\n",
    "X=df_minimal_Eredevisie[feature_cols]\n",
    "\n",
    "\n",
    "from sklearn.model_selection  import train_test_split \n",
    "\n",
    "X_train, X_test, y_train , y_test = train_test_split(X,y,test_size=0.3, random_state=1)\n",
    "from sklearn.linear_model import LogisticRegression \n",
    "logmodel = LogisticRegression() \n",
    "logmodel.fit(X_train,y_train)\n",
    "\n",
    "\n",
    "\n",
    "\n",
    "\n"
   ]
  },
  {
   "cell_type": "code",
   "execution_count": 11,
   "metadata": {},
   "outputs": [],
   "source": [
    "predictions = logmodel.predict(X_test)"
   ]
  },
  {
   "cell_type": "code",
   "execution_count": 12,
   "metadata": {},
   "outputs": [
    {
     "data": {
      "text/plain": [
       "'              precision    recall  f1-score   support\\n\\n       False       0.52      0.59      0.55       400\\n        True       0.51      0.43      0.47       387\\n\\n   micro avg       0.51      0.51      0.51       787\\n   macro avg       0.51      0.51      0.51       787\\nweighted avg       0.51      0.51      0.51       787\\n'"
      ]
     },
     "execution_count": 12,
     "metadata": {},
     "output_type": "execute_result"
    }
   ],
   "source": [
    "from sklearn.metrics import classification_report \n",
    "\n",
    "classification_report(y_test,predictions)"
   ]
  },
  {
   "cell_type": "code",
   "execution_count": 13,
   "metadata": {},
   "outputs": [
    {
     "data": {
      "text/plain": [
       "array([[238, 162],\n",
       "       [220, 167]])"
      ]
     },
     "execution_count": 13,
     "metadata": {},
     "output_type": "execute_result"
    }
   ],
   "source": [
    "from sklearn.metrics import confusion_matrix \n",
    "\n",
    "confusion_matrix(y_test,predictions)"
   ]
  },
  {
   "cell_type": "code",
   "execution_count": null,
   "metadata": {},
   "outputs": [],
   "source": []
  },
  {
   "cell_type": "code",
   "execution_count": null,
   "metadata": {},
   "outputs": [],
   "source": []
  }
 ],
 "metadata": {
  "kernelspec": {
   "display_name": "Python 3",
   "language": "python",
   "name": "python3"
  },
  "language_info": {
   "codemirror_mode": {
    "name": "ipython",
    "version": 3
   },
   "file_extension": ".py",
   "mimetype": "text/x-python",
   "name": "python",
   "nbconvert_exporter": "python",
   "pygments_lexer": "ipython3",
   "version": "3.6.5"
  }
 },
 "nbformat": 4,
 "nbformat_minor": 2
}
